{
 "cells": [
  {
   "cell_type": "code",
   "execution_count": 2,
   "metadata": {},
   "outputs": [],
   "source": [
    "from tkinter import*\n",
    "from pytube import *\n",
    "from tkinter.filedialog import *\n",
    "from tkinter.messagebox import *\n",
    "from threading import *"
   ]
  },
  {
   "cell_type": "code",
   "execution_count": 6,
   "metadata": {},
   "outputs": [
    {
     "name": "stdout",
     "output_type": "stream",
     "text": [
      "https://youtu.be/BZP1rYjoBgI\n",
      "C:/Users/Noushad/Downloads\n",
      "1766402\n",
      "done\n"
     ]
    }
   ],
   "source": [
    "file_size=0\n",
    "\n",
    "# get the percentage of downloader\n",
    "def progress(stream=None,chunk=None,remaining=None):\n",
    "   # print(\"funtion call\");\n",
    "    #print(remaining)\n",
    "    \n",
    "    file_downloded=(file_size-remaining)\n",
    "    print(file_downloded)\n",
    "    per=((file_downloded/file_size)*100)\n",
    "    dBtn.config(text=\"{:00.0f} % downloading\".format(per))\n",
    "def downloader():\n",
    "    global file_size;\n",
    "    try:\n",
    "        url=urlField.get()\n",
    "        print(url)\n",
    "        \n",
    "        #changing button text\n",
    "        dBtn.config(text=\"Please wait\")\n",
    "        #dBtn.config(state=DISABLE)\n",
    "        path_to_save_video=askdirectory();\n",
    "        print(path_to_save_video)\n",
    "        if path_to_save_video is None:\n",
    "            print(\"path not found\")\n",
    "            return \n",
    "        ob=YouTube(url,on_progress_callback=progress)\n",
    "        stre=ob.streams.first()\n",
    "        #geting file size\n",
    "        file_size=stre.filesize\n",
    "        print(file_size)\n",
    "        stre.download(path_to_save_video)\n",
    "        print(\"done\")\n",
    "        #configure button\n",
    "        dBtn.config(text=\"Start download\")\n",
    "        dBtn.config(state=NORMAL)\n",
    "        showinfo(\"Donwload Finished\",\"Donwloaded Succesfull\")\n",
    "        urlField.delete(0,END)\n",
    "    except Exception as e:\n",
    "                   \n",
    "        showinfo(\"Newtork problem\",e)\n",
    "        \n",
    "\n",
    "def startdownloder():\n",
    "    thread=Thread(target=downloader);\n",
    "    thread.start();\n",
    "                   \n",
    "\n",
    "main=Tk()\n",
    "main.title(\"my youtube\")\n",
    "main.geometry(\"500x400\")\n",
    "file=PhotoImage(file=\"icon2.png\")\n",
    "headingicone=Label(main,image=file)\n",
    "headingicone.pack(side=TOP)\n",
    "urlField=Entry(main,font=(\"verdana\",18),justify=CENTER)\n",
    "urlField.pack(side=TOP,fill=X,padx=10)\n",
    "dBtn=Button(main,text=\"Start download\",font=(\"verdana\",10),command=startdownloder)\n",
    "dBtn.pack(side=TOP,pady=10)\n",
    "\n",
    "\n",
    "main.mainloop()\n"
   ]
  }
 ],
 "metadata": {
  "kernelspec": {
   "display_name": "Python 3",
   "language": "python",
   "name": "python3"
  },
  "language_info": {
   "codemirror_mode": {
    "name": "ipython",
    "version": 3
   },
   "file_extension": ".py",
   "mimetype": "text/x-python",
   "name": "python",
   "nbconvert_exporter": "python",
   "pygments_lexer": "ipython3",
   "version": "3.7.6"
  }
 },
 "nbformat": 4,
 "nbformat_minor": 4
}
